{
  "metadata": {
    "kernelspec": {
      "name": "python",
      "display_name": "Python (Pyodide)",
      "language": "python"
    },
    "language_info": {
      "codemirror_mode": {
        "name": "python",
        "version": 3
      },
      "file_extension": ".py",
      "mimetype": "text/x-python",
      "name": "python",
      "nbconvert_exporter": "python",
      "pygments_lexer": "ipython3",
      "version": "3.8"
    }
  },
  "nbformat_minor": 5,
  "nbformat": 4,
  "cells": [
    {
      "id": "d0285c03-375e-4891-ab1b-0bb7d102c346",
      "cell_type": "code",
      "source": "# implimentation of chatbot ",
      "metadata": {
        "tags": [],
        "editable": true,
        "slideshow": {
          "slide_type": ""
        },
        "trusted": true
      },
      "outputs": [],
      "execution_count": null
    },
    {
      "id": "97f5dcaa-6910-4563-909c-82ec4b3760d4",
      "cell_type": "code",
      "source": "",
      "metadata": {
        "trusted": true
      },
      "outputs": [],
      "execution_count": null
    },
    {
      "id": "575acc8e-206c-4422-b7e5-698a86c01ad9",
      "cell_type": "code",
      "source": "",
      "metadata": {
        "trusted": true
      },
      "outputs": [],
      "execution_count": null
    },
    {
      "id": "f92e4de5-3ac9-4c16-a834-28c47d7eb4e7",
      "cell_type": "code",
      "source": "pip install nltk scikit-learn streamlit",
      "metadata": {
        "trusted": true,
        "tags": [],
        "editable": true,
        "slideshow": {
          "slide_type": ""
        }
      },
      "outputs": [],
      "execution_count": null
    },
    {
      "id": "a1ae695f-79a4-4e5e-b8f1-b98107541b44",
      "cell_type": "code",
      "source": "# importing necessary modules\nimport nltk \nimport random \nimport os \nimport ssl \nimport streamlit as st \nfrom sklearn.feature_extraction.text import TfidVectorizer\nfrom sklearn.linear_model import LogisticRegression\n",
      "metadata": {
        "trusted": true
      },
      "outputs": [],
      "execution_count": null
    },
    {
      "id": "b6a9ec63-27b5-4ba3-81b2-ffddd0606e2b",
      "cell_type": "code",
      "source": "ssl._create_default_https_context = ssl._create_unverified_context\nnltk.data.path.append(os.path.abspath('nltk_data'))\nnltk.download('punkt')",
      "metadata": {
        "trusted": true
      },
      "outputs": [],
      "execution_count": null
    },
    {
      "id": "4eaad771-a2e1-40d6-ba71-660081cf7d68",
      "cell_type": "code",
      "source": "intents = [\n    {\n        'tag' = ' greeting',\n        'pattern' : ['hi',' hello','hey'],\n        'responses' : [ 'hi there' , 'hey', 'hi']\n    },\n        'tag' = 'goodbye',\n        'pattern':['bye','see you'],\n        'reponses':['bye','byebye','seeyou']\n    },\n        'tag' ='thanks',\n        'pattern': [ 'thankyou','thanks',' i appreciate it ' ],\n        'reponses' : [ 'your welcome ' , 'welcome']\n}\n]\n        ",
      "metadata": {
        "trusted": true
      },
      "outputs": [],
      "execution_count": null
    },
    {
      "id": "8dacadf5-5c22-44e8-a55c-acd569b3858c",
      "cell_type": "code",
      "source": "#create vectorizer and classifier \nvectorizer = TfidVectorizer()\nclf = LogisticRegression (random_state = 0 ,max_iter= 1000)\n#preprocess the data \ntags = []\npatterns = []\nfor intent in intents :\n    for pattern in intent ['patterns']:\n        tags.append(intent['tag'])\n        patterns.append(pattern)\n",
      "metadata": {
        "trusted": true
      },
      "outputs": [
        {
          "ename": "<class 'NameError'>",
          "evalue": "name 'TfidVectorizer' is not defined",
          "traceback": [
            "\u001b[0;31m---------------------------------------------------------------------------\u001b[0m",
            "\u001b[0;31mNameError\u001b[0m                                 Traceback (most recent call last)",
            "Cell \u001b[0;32mIn[1], line 2\u001b[0m\n\u001b[1;32m      1\u001b[0m \u001b[38;5;66;03m#create vectorizer and classifier \u001b[39;00m\n\u001b[0;32m----> 2\u001b[0m vectorizer \u001b[38;5;241m=\u001b[39m \u001b[43mTfidVectorizer\u001b[49m()\n\u001b[1;32m      3\u001b[0m clf \u001b[38;5;241m=\u001b[39m LogisticRegression (random_state \u001b[38;5;241m=\u001b[39m \u001b[38;5;241m0\u001b[39m ,max_iter\u001b[38;5;241m=\u001b[39m \u001b[38;5;241m1000\u001b[39m)\n\u001b[1;32m      4\u001b[0m \u001b[38;5;66;03m#preprocess the data \u001b[39;00m\n",
            "\u001b[0;31mNameError\u001b[0m: name 'TfidVectorizer' is not defined"
          ],
          "output_type": "error"
        }
      ],
      "execution_count": 1
    },
    {
      "id": "b8a4906b-bf14-4073-9ec2-afb9f353fe1f",
      "cell_type": "code",
      "source": "# training the model \nx= vectorizer.fit_transform(patterns)\ny=tags\nclf.fit(x,y)",
      "metadata": {
        "trusted": true
      },
      "outputs": [
        {
          "ename": "<class 'NameError'>",
          "evalue": "name 'vectorizer' is not defined",
          "traceback": [
            "\u001b[0;31m---------------------------------------------------------------------------\u001b[0m",
            "\u001b[0;31mNameError\u001b[0m                                 Traceback (most recent call last)",
            "Cell \u001b[0;32mIn[2], line 2\u001b[0m\n\u001b[1;32m      1\u001b[0m \u001b[38;5;66;03m# training the model \u001b[39;00m\n\u001b[0;32m----> 2\u001b[0m x\u001b[38;5;241m=\u001b[39m \u001b[43mvectorizer\u001b[49m\u001b[38;5;241m.\u001b[39mfit_transform(patterns)\n\u001b[1;32m      3\u001b[0m y\u001b[38;5;241m=\u001b[39mtags\n\u001b[1;32m      4\u001b[0m clf\u001b[38;5;241m.\u001b[39mfit(x,y)\n",
            "\u001b[0;31mNameError\u001b[0m: name 'vectorizer' is not defined"
          ],
          "output_type": "error"
        }
      ],
      "execution_count": 2
    },
    {
      "id": "8bd4076d-eda3-43eb-a2e8-7a39d4ccb205",
      "cell_type": "code",
      "source": "#py function to chaqt with chatbot \ndef chatbot(input_text):\n    input_text = vectorizer.transform ([input_text])\n    tag = clf.predict(input_text)[0]\n    for intent in intents:\n        response = chatbot(user_input)\n        return (response)",
      "metadata": {
        "trusted": true
      },
      "outputs": [],
      "execution_count": 4
    },
    {
      "id": "74bb8ec5-b57e-42ea-a325-562fc9f53438",
      "cell_type": "code",
      "source": "#checking our chatbot \nuser_input = \"hello\"\nresponse = chatbot(user_input)\nprint (response)",
      "metadata": {
        "trusted": true
      },
      "outputs": [
        {
          "ename": "<class 'NameError'>",
          "evalue": "name 'vectorizer' is not defined",
          "traceback": [
            "\u001b[0;31m---------------------------------------------------------------------------\u001b[0m",
            "\u001b[0;31mNameError\u001b[0m                                 Traceback (most recent call last)",
            "Cell \u001b[0;32mIn[5], line 3\u001b[0m\n\u001b[1;32m      1\u001b[0m \u001b[38;5;66;03m#checking our chatbot \u001b[39;00m\n\u001b[1;32m      2\u001b[0m user_input \u001b[38;5;241m=\u001b[39m \u001b[38;5;124m\"\u001b[39m\u001b[38;5;124mhello\u001b[39m\u001b[38;5;124m\"\u001b[39m\n\u001b[0;32m----> 3\u001b[0m response \u001b[38;5;241m=\u001b[39m \u001b[43mchatbot\u001b[49m\u001b[43m(\u001b[49m\u001b[43muser_input\u001b[49m\u001b[43m)\u001b[49m\n\u001b[1;32m      4\u001b[0m \u001b[38;5;28mprint\u001b[39m (response)\n",
            "Cell \u001b[0;32mIn[4], line 3\u001b[0m, in \u001b[0;36mchatbot\u001b[0;34m(input_text)\u001b[0m\n\u001b[1;32m      2\u001b[0m \u001b[38;5;28;01mdef\u001b[39;00m \u001b[38;5;21mchatbot\u001b[39m(input_text):\n\u001b[0;32m----> 3\u001b[0m     input_text \u001b[38;5;241m=\u001b[39m \u001b[43mvectorizer\u001b[49m\u001b[38;5;241m.\u001b[39mtransform ([input_text])\n\u001b[1;32m      4\u001b[0m     tag \u001b[38;5;241m=\u001b[39m clf\u001b[38;5;241m.\u001b[39mpredict(input_text)[\u001b[38;5;241m0\u001b[39m]\n\u001b[1;32m      5\u001b[0m     \u001b[38;5;28;01mfor\u001b[39;00m intent \u001b[38;5;129;01min\u001b[39;00m intents:\n",
            "\u001b[0;31mNameError\u001b[0m: name 'vectorizer' is not defined"
          ],
          "output_type": "error"
        }
      ],
      "execution_count": 5
    },
    {
      "id": "2090768e-3b62-4acb-ac51-3fadcf97f833",
      "cell_type": "code",
      "source": "",
      "metadata": {
        "trusted": true
      },
      "outputs": [],
      "execution_count": null
    },
    {
      "id": "399d0d2b-e325-469a-9ad3-eb78faadde1e",
      "cell_type": "code",
      "source": "",
      "metadata": {
        "trusted": true
      },
      "outputs": [],
      "execution_count": null
    },
    {
      "id": "ca817390-2a60-444c-916a-6d0eb7e815c6",
      "cell_type": "code",
      "source": "",
      "metadata": {
        "trusted": true
      },
      "outputs": [],
      "execution_count": null
    }
  ]
}